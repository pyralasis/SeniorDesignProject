{
 "cells": [
  {
   "cell_type": "code",
   "execution_count": 3,
   "metadata": {
    "vscode": {
     "languageId": "markdown"
    }
   },
   "outputs": [
    {
     "data": {
      "text/plain": [
       "WindowsPath('architectures/test')"
      ]
     },
     "execution_count": 3,
     "metadata": {},
     "output_type": "execute_result"
    }
   ],
   "source": [
    "from pathlib import Path\n",
    "from server.architecture.desc import (\n",
    "    ArchitectureDescription,\n",
    "    InputLayerDescription,\n",
    "    NetworkLayerDescription,\n",
    ")\n",
    "from server.architecture.service import ArchitectureService\n",
    "from server.params import (\n",
    "    BoolParameter,\n",
    "    BoolParameterValue,\n",
    "    IntParameterValue,\n",
    "    ParameterValue,\n",
    ")\n",
    "from server.layer.size import TensorSize\n",
    "\n",
    "arch = ArchitectureService(Path(\"./test/architectures\"))\n",
    "arch.load_all_architectures()\n",
    "\n",
    "\n",
    "a = ArchitectureDescription(\n",
    "    \"Test\",\n",
    "    [InputLayerDescription(0, TensorSize((5, 32, 32)))],\n",
    "    [\n",
    "        NetworkLayerDescription(\n",
    "            1,\n",
    "            \"linear\",\n",
    "            0,\n",
    "            {\"out_features\": IntParameterValue(1), \"bias\": BoolParameterValue(True)},\n",
    "        )\n",
    "    ],\n",
    ")\n",
    "\n",
    "arch.save_architecture(\"test.arch.json\", a)\n"
   ]
  }
 ],
 "metadata": {
  "kernelspec": {
   "display_name": ".venv",
   "language": "python",
   "name": "python3"
  },
  "language_info": {
   "codemirror_mode": {
    "name": "ipython",
    "version": 3
   },
   "file_extension": ".py",
   "mimetype": "text/x-python",
   "name": "python",
   "nbconvert_exporter": "python",
   "pygments_lexer": "ipython3",
   "version": "3.11.0"
  }
 },
 "nbformat": 4,
 "nbformat_minor": 2
}
